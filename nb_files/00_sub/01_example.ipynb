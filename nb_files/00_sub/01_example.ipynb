{
 "cells": [
  {
   "cell_type": "markdown",
   "id": "70a3b8c5",
   "metadata": {},
   "source": [
    "# Title 1\n",
    " some text"
   ]
  },
  {
   "cell_type": "code",
   "execution_count": null,
   "id": "4ee0ae80",
   "metadata": {},
   "outputs": [],
   "source": [
    "import os\n",
    "from glob import glob"
   ]
  },
  {
   "cell_type": "markdown",
   "id": "443e31d5",
   "metadata": {},
   "source": [
    "# Title 2\n",
    " more text"
   ]
  }
 ],
 "metadata": {},
 "nbformat": 4,
 "nbformat_minor": 5
}
