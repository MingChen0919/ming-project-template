{
 "cells": [
  {
   "cell_type": "markdown",
   "id": "54fdcf9e",
   "metadata": {},
   "source": [
    "# Title 1\n",
    " some text"
   ]
  },
  {
   "cell_type": "code",
   "execution_count": null,
   "id": "f6d744af",
   "metadata": {},
   "outputs": [],
   "source": [
    "import os\n",
    "from glob import glob"
   ]
  },
  {
   "cell_type": "markdown",
   "id": "7ad4ff0e",
   "metadata": {},
   "source": [
    "# Title 2\n",
    " more text"
   ]
  }
 ],
 "metadata": {},
 "nbformat": 4,
 "nbformat_minor": 5
}
