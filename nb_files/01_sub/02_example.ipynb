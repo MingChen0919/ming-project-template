{
 "cells": [
  {
   "cell_type": "markdown",
   "id": "468afe31",
   "metadata": {},
   "source": [
    "# Title 1\n",
    " some text"
   ]
  },
  {
   "cell_type": "code",
   "execution_count": null,
   "id": "6a0cf8bc",
   "metadata": {},
   "outputs": [],
   "source": [
    "import os\n",
    "from glob import glob"
   ]
  },
  {
   "cell_type": "markdown",
   "id": "9a2bb50b",
   "metadata": {},
   "source": [
    "# Title 2\n",
    " more text"
   ]
  }
 ],
 "metadata": {},
 "nbformat": 4,
 "nbformat_minor": 5
}
