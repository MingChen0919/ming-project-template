{
 "cells": [
  {
   "cell_type": "markdown",
   "id": "4fd32ddb",
   "metadata": {},
   "source": [
    "# Title 1\n",
    " some text"
   ]
  },
  {
   "cell_type": "code",
   "execution_count": null,
   "id": "00f62b93",
   "metadata": {},
   "outputs": [],
   "source": [
    "import os\n",
    "from glob import glob"
   ]
  },
  {
   "cell_type": "markdown",
   "id": "07b3eb89",
   "metadata": {},
   "source": [
    "# Title 2\n",
    " more text"
   ]
  }
 ],
 "metadata": {},
 "nbformat": 4,
 "nbformat_minor": 5
}
